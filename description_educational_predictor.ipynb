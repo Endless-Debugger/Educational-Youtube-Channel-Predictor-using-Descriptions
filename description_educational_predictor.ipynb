{
  "nbformat": 4,
  "nbformat_minor": 0,
  "metadata": {
    "colab": {
      "name": "Untitled14.ipynb",
      "provenance": []
    },
    "kernelspec": {
      "name": "python3",
      "display_name": "Python 3"
    },
    "language_info": {
      "name": "python"
    }
  },
  "cells": [
    {
      "cell_type": "code",
      "metadata": {
        "id": "FEKEElTE9Jsm"
      },
      "source": [
        "import numpy as np\n",
        "import pandas as pd\n"
      ],
      "execution_count": 1,
      "outputs": []
    },
    {
      "cell_type": "code",
      "metadata": {
        "id": "-F1aydPT_sNB"
      },
      "source": [
        "edu_df = pd.read_csv(\"/content/edu_desc.csv\")\n",
        "ent_df = pd.read_csv(\"/content/ent_desc.csv\")\n",
        "edu_df[\"Classification\"] = 1\n",
        "ent_df[\"Classification\"] = 0"
      ],
      "execution_count": 3,
      "outputs": []
    },
    {
      "cell_type": "code",
      "metadata": {
        "id": "dOR9UPd8_xDZ"
      },
      "source": [
        "edu_df.columns = [\"Name\", \"Description\", \"Classification\"]\n",
        "ent_df.columns = [\"Name\", \"Description\", \"Classification\"]\n"
      ],
      "execution_count": 4,
      "outputs": []
    },
    {
      "cell_type": "code",
      "metadata": {
        "colab": {
          "base_uri": "https://localhost:8080/",
          "height": 202
        },
        "id": "NfhoVEvf_zJ9",
        "outputId": "26dfb523-afce-49c0-b664-a0f661f9cca9"
      },
      "source": [
        "edu_df.head()\n",
        "ent_df.head()"
      ],
      "execution_count": 5,
      "outputs": [
        {
          "output_type": "execute_result",
          "data": {
            "text/html": [
              "<div>\n",
              "<style scoped>\n",
              "    .dataframe tbody tr th:only-of-type {\n",
              "        vertical-align: middle;\n",
              "    }\n",
              "\n",
              "    .dataframe tbody tr th {\n",
              "        vertical-align: top;\n",
              "    }\n",
              "\n",
              "    .dataframe thead th {\n",
              "        text-align: right;\n",
              "    }\n",
              "</style>\n",
              "<table border=\"1\" class=\"dataframe\">\n",
              "  <thead>\n",
              "    <tr style=\"text-align: right;\">\n",
              "      <th></th>\n",
              "      <th>Name</th>\n",
              "      <th>Description</th>\n",
              "      <th>Classification</th>\n",
              "    </tr>\n",
              "  </thead>\n",
              "  <tbody>\n",
              "    <tr>\n",
              "      <th>0</th>\n",
              "      <td>LinusTechTips</td>\n",
              "      <td>Tech can be complicated; we try to make it eas...</td>\n",
              "      <td>0</td>\n",
              "    </tr>\n",
              "    <tr>\n",
              "      <th>1</th>\n",
              "      <td>FilmTheorists</td>\n",
              "      <td>Hello Internet! I'm MatPat and welcome to FILM...</td>\n",
              "      <td>0</td>\n",
              "    </tr>\n",
              "    <tr>\n",
              "      <th>2</th>\n",
              "      <td>GameTheorists</td>\n",
              "      <td>Hello Internet! I'm MatPat and welcome to GAME...</td>\n",
              "      <td>0</td>\n",
              "    </tr>\n",
              "    <tr>\n",
              "      <th>3</th>\n",
              "      <td>FoodTheorists</td>\n",
              "      <td>Hello Internet! I'm MatPat and welcome to FOOD...</td>\n",
              "      <td>0</td>\n",
              "    </tr>\n",
              "    <tr>\n",
              "      <th>4</th>\n",
              "      <td>MrBeast6000</td>\n",
              "      <td>Accomplishments\\r\\n- Raised $20,000,000 To Pla...</td>\n",
              "      <td>0</td>\n",
              "    </tr>\n",
              "  </tbody>\n",
              "</table>\n",
              "</div>"
            ],
            "text/plain": [
              "            Name  ... Classification\n",
              "0  LinusTechTips  ...              0\n",
              "1  FilmTheorists  ...              0\n",
              "2  GameTheorists  ...              0\n",
              "3  FoodTheorists  ...              0\n",
              "4    MrBeast6000  ...              0\n",
              "\n",
              "[5 rows x 3 columns]"
            ]
          },
          "metadata": {},
          "execution_count": 5
        }
      ]
    },
    {
      "cell_type": "code",
      "metadata": {
        "colab": {
          "base_uri": "https://localhost:8080/"
        },
        "id": "YUFdBDmDA1A5",
        "outputId": "d9b2f289-f440-4b9d-eb35-c405f0a220cd"
      },
      "source": [
        "print(edu_df.shape)\n",
        "print(ent_df.shape)"
      ],
      "execution_count": 6,
      "outputs": [
        {
          "output_type": "stream",
          "name": "stdout",
          "text": [
            "(80, 3)\n",
            "(80, 3)\n"
          ]
        }
      ]
    },
    {
      "cell_type": "code",
      "metadata": {
        "id": "mZOyIP0BA8hF"
      },
      "source": [
        "df = pd.concat([edu_df, ent_df])\n",
        "df.reindex()\n",
        "df = df.sample(frac=1)\n",
        "df.head()"
      ],
      "execution_count": 6,
      "outputs": []
    },
    {
      "cell_type": "code",
      "metadata": {
        "id": "8ljD-TSHdAy1"
      },
      "source": [
        ""
      ],
      "execution_count": 6,
      "outputs": []
    },
    {
      "cell_type": "code",
      "metadata": {
        "id": "wueqRG0VhTU1"
      },
      "source": [
        "trb_nan_idx = df[pd.isnull(df['Description'])].index.tolist()\n",
        "df.loc[trb_nan_idx, \"Description\"] = \" \""
      ],
      "execution_count": 11,
      "outputs": []
    },
    {
      "cell_type": "code",
      "metadata": {
        "id": "MRCHNHGkiu6o"
      },
      "source": [
        "training_data = df[\"Description\"][0 : 145] \n",
        "test_data = df[\"Description\"][ 145 : ]\n",
        "training_labels = df[\"Classification\"][0:145]\n",
        "testing_labels = df[\"Classification\"][145:]"
      ],
      "execution_count": 12,
      "outputs": []
    },
    {
      "cell_type": "code",
      "metadata": {
        "colab": {
          "base_uri": "https://localhost:8080/",
          "height": 202
        },
        "id": "rRaDEokrkrbE",
        "outputId": "efcab3fd-ceec-44ed-866a-801947ece93f"
      },
      "source": [
        ""
      ],
      "execution_count": 9,
      "outputs": [
        {
          "output_type": "execute_result",
          "data": {
            "text/html": [
              "<div>\n",
              "<style scoped>\n",
              "    .dataframe tbody tr th:only-of-type {\n",
              "        vertical-align: middle;\n",
              "    }\n",
              "\n",
              "    .dataframe tbody tr th {\n",
              "        vertical-align: top;\n",
              "    }\n",
              "\n",
              "    .dataframe thead th {\n",
              "        text-align: right;\n",
              "    }\n",
              "</style>\n",
              "<table border=\"1\" class=\"dataframe\">\n",
              "  <thead>\n",
              "    <tr style=\"text-align: right;\">\n",
              "      <th></th>\n",
              "      <th>Name</th>\n",
              "      <th>Description</th>\n",
              "      <th>Classification</th>\n",
              "    </tr>\n",
              "  </thead>\n",
              "  <tbody>\n",
              "    <tr>\n",
              "      <th>44</th>\n",
              "      <td>mkbhd</td>\n",
              "      <td>MKBHD: Quality Tech Videos | YouTuber | Geek |...</td>\n",
              "      <td>0</td>\n",
              "    </tr>\n",
              "    <tr>\n",
              "      <th>13</th>\n",
              "      <td>BroCodez</td>\n",
              "      <td>Coding bootcamps hate him! See how he can teac...</td>\n",
              "      <td>1</td>\n",
              "    </tr>\n",
              "    <tr>\n",
              "      <th>1</th>\n",
              "      <td>FilmTheorists</td>\n",
              "      <td>Hello Internet! I'm MatPat and welcome to FILM...</td>\n",
              "      <td>0</td>\n",
              "    </tr>\n",
              "    <tr>\n",
              "      <th>73</th>\n",
              "      <td>PartitionZion</td>\n",
              "      <td>It's Parti Time</td>\n",
              "      <td>0</td>\n",
              "    </tr>\n",
              "    <tr>\n",
              "      <th>77</th>\n",
              "      <td>GoogleDevelopers</td>\n",
              "      <td>The Google Developers channel features talks f...</td>\n",
              "      <td>1</td>\n",
              "    </tr>\n",
              "  </tbody>\n",
              "</table>\n",
              "</div>"
            ],
            "text/plain": [
              "                Name  ... Classification\n",
              "44             mkbhd  ...              0\n",
              "13          BroCodez  ...              1\n",
              "1      FilmTheorists  ...              0\n",
              "73     PartitionZion  ...              0\n",
              "77  GoogleDevelopers  ...              1\n",
              "\n",
              "[5 rows x 3 columns]"
            ]
          },
          "metadata": {},
          "execution_count": 9
        }
      ]
    },
    {
      "cell_type": "code",
      "metadata": {
        "colab": {
          "base_uri": "https://localhost:8080/"
        },
        "id": "5zKxhk2Sk0LR",
        "outputId": "0089c712-7f27-4fa0-eb91-9818474c7a26"
      },
      "source": [
        "df.shape"
      ],
      "execution_count": 14,
      "outputs": [
        {
          "output_type": "execute_result",
          "data": {
            "text/plain": [
              "(160, 3)"
            ]
          },
          "metadata": {},
          "execution_count": 14
        }
      ]
    },
    {
      "cell_type": "code",
      "metadata": {
        "id": "eaGayJkOyXnU"
      },
      "source": [
        "from tensorflow.keras.preprocessing.text import Tokenizer\n",
        "from tensorflow.keras.preprocessing.sequence import pad_sequences\n",
        "tokenizer = Tokenizer(num_words=500, oov_token=\"<OOV>\")\n",
        "tokenizer.fit_on_texts(training_data)\n",
        "word_index = tokenizer.word_index\n",
        "train_sequences = tokenizer.texts_to_sequences(training_data)\n",
        "padded_train_sequences = pad_sequences(train_sequences, padding=\"post\")\n",
        "test_sequences = tokenizer.texts_to_sequences(test_data)\n",
        "padded_test_sequences = pad_sequences(test_sequences, padding=\"post\")"
      ],
      "execution_count": 13,
      "outputs": []
    },
    {
      "cell_type": "code",
      "metadata": {
        "colab": {
          "base_uri": "https://localhost:8080/"
        },
        "id": "z3mliq2a1o2G",
        "outputId": "045b6318-7a83-4511-cee6-6fc4a8ea374b"
      },
      "source": [
        "import tensorflow as tf\n",
        "vocab_size = 10000\n",
        "embedding_dim = 16\n",
        "model = tf.keras.Sequential([\n",
        "  tf.keras.layers.Embedding(vocab_size, embedding_dim, input_length=200),\n",
        "  tf.keras.layers.GlobalAveragePooling1D(),\n",
        "  tf.keras.layers.Dense(128, activation=\"relu\"),\n",
        "  tf.keras.layers.Dense(64, activation=\"relu\"),\n",
        "  tf.keras.layers.Dense(32, activation=\"relu\"),\n",
        "  tf.keras.layers.Dense(1, activation=\"sigmoid\")\n",
        "])\n",
        "model.compile(loss=\"binary_crossentropy\", optimizer=\"adam\", metrics=[\"accuracy\"])\n",
        "number_of_epochs= 200\n",
        "history=model.fit(padded_train_sequences, training_labels, epochs=number_of_epochs, validation_data=(padded_test_sequences, testing_labels), verbose=2)"
      ],
      "execution_count": 15,
      "outputs": [
        {
          "output_type": "stream",
          "name": "stdout",
          "text": [
            "Epoch 1/200\n",
            "WARNING:tensorflow:Model was constructed with shape (None, 200) for input KerasTensor(type_spec=TensorSpec(shape=(None, 200), dtype=tf.float32, name='embedding_input'), name='embedding_input', description=\"created by layer 'embedding_input'\"), but it was called on an input with incompatible shape (None, 191).\n",
            "WARNING:tensorflow:Model was constructed with shape (None, 200) for input KerasTensor(type_spec=TensorSpec(shape=(None, 200), dtype=tf.float32, name='embedding_input'), name='embedding_input', description=\"created by layer 'embedding_input'\"), but it was called on an input with incompatible shape (None, 191).\n",
            "WARNING:tensorflow:Model was constructed with shape (None, 200) for input KerasTensor(type_spec=TensorSpec(shape=(None, 200), dtype=tf.float32, name='embedding_input'), name='embedding_input', description=\"created by layer 'embedding_input'\"), but it was called on an input with incompatible shape (None, 132).\n",
            "5/5 - 1s - loss: 0.6938 - accuracy: 0.4897 - val_loss: 0.6928 - val_accuracy: 0.5333\n",
            "Epoch 2/200\n",
            "5/5 - 0s - loss: 0.6933 - accuracy: 0.4966 - val_loss: 0.6932 - val_accuracy: 0.5333\n",
            "Epoch 3/200\n",
            "5/5 - 0s - loss: 0.6932 - accuracy: 0.4552 - val_loss: 0.6932 - val_accuracy: 0.5333\n",
            "Epoch 4/200\n",
            "5/5 - 0s - loss: 0.6929 - accuracy: 0.4966 - val_loss: 0.6929 - val_accuracy: 0.5333\n",
            "Epoch 5/200\n",
            "5/5 - 0s - loss: 0.6928 - accuracy: 0.4966 - val_loss: 0.6928 - val_accuracy: 0.5333\n",
            "Epoch 6/200\n",
            "5/5 - 0s - loss: 0.6924 - accuracy: 0.4966 - val_loss: 0.6930 - val_accuracy: 0.5333\n",
            "Epoch 7/200\n",
            "5/5 - 0s - loss: 0.6922 - accuracy: 0.4966 - val_loss: 0.6929 - val_accuracy: 0.5333\n",
            "Epoch 8/200\n",
            "5/5 - 0s - loss: 0.6915 - accuracy: 0.4966 - val_loss: 0.6931 - val_accuracy: 0.5333\n",
            "Epoch 9/200\n",
            "5/5 - 0s - loss: 0.6909 - accuracy: 0.5655 - val_loss: 0.6936 - val_accuracy: 0.4667\n",
            "Epoch 10/200\n",
            "5/5 - 0s - loss: 0.6898 - accuracy: 0.6138 - val_loss: 0.6932 - val_accuracy: 0.4667\n",
            "Epoch 11/200\n",
            "5/5 - 0s - loss: 0.6879 - accuracy: 0.6759 - val_loss: 0.6937 - val_accuracy: 0.4000\n",
            "Epoch 12/200\n",
            "5/5 - 0s - loss: 0.6855 - accuracy: 0.7103 - val_loss: 0.6934 - val_accuracy: 0.4667\n",
            "Epoch 13/200\n",
            "5/5 - 0s - loss: 0.6824 - accuracy: 0.7241 - val_loss: 0.6931 - val_accuracy: 0.5333\n",
            "Epoch 14/200\n",
            "5/5 - 0s - loss: 0.6773 - accuracy: 0.7448 - val_loss: 0.6921 - val_accuracy: 0.4000\n",
            "Epoch 15/200\n",
            "5/5 - 0s - loss: 0.6709 - accuracy: 0.7655 - val_loss: 0.6909 - val_accuracy: 0.4000\n",
            "Epoch 16/200\n",
            "5/5 - 0s - loss: 0.6603 - accuracy: 0.8069 - val_loss: 0.6895 - val_accuracy: 0.4000\n",
            "Epoch 17/200\n",
            "5/5 - 0s - loss: 0.6448 - accuracy: 0.7793 - val_loss: 0.6859 - val_accuracy: 0.4000\n",
            "Epoch 18/200\n",
            "5/5 - 0s - loss: 0.6308 - accuracy: 0.7586 - val_loss: 0.6775 - val_accuracy: 0.6667\n",
            "Epoch 19/200\n",
            "5/5 - 0s - loss: 0.6036 - accuracy: 0.8138 - val_loss: 0.6876 - val_accuracy: 0.6000\n",
            "Epoch 20/200\n",
            "5/5 - 0s - loss: 0.5756 - accuracy: 0.8345 - val_loss: 0.6623 - val_accuracy: 0.5333\n",
            "Epoch 21/200\n",
            "5/5 - 0s - loss: 0.5393 - accuracy: 0.8966 - val_loss: 0.6529 - val_accuracy: 0.6000\n",
            "Epoch 22/200\n",
            "5/5 - 0s - loss: 0.5019 - accuracy: 0.8207 - val_loss: 0.6453 - val_accuracy: 0.5333\n",
            "Epoch 23/200\n",
            "5/5 - 0s - loss: 0.4606 - accuracy: 0.9172 - val_loss: 0.6209 - val_accuracy: 0.6000\n",
            "Epoch 24/200\n",
            "5/5 - 0s - loss: 0.4408 - accuracy: 0.8345 - val_loss: 0.6230 - val_accuracy: 0.6667\n",
            "Epoch 25/200\n",
            "5/5 - 0s - loss: 0.3786 - accuracy: 0.9241 - val_loss: 0.5855 - val_accuracy: 0.6667\n",
            "Epoch 26/200\n",
            "5/5 - 0s - loss: 0.3470 - accuracy: 0.9103 - val_loss: 0.5997 - val_accuracy: 0.6667\n",
            "Epoch 27/200\n",
            "5/5 - 0s - loss: 0.3065 - accuracy: 0.8828 - val_loss: 0.5431 - val_accuracy: 0.7333\n",
            "Epoch 28/200\n",
            "5/5 - 0s - loss: 0.2809 - accuracy: 0.9448 - val_loss: 0.5446 - val_accuracy: 0.7333\n",
            "Epoch 29/200\n",
            "5/5 - 0s - loss: 0.2608 - accuracy: 0.8897 - val_loss: 0.5599 - val_accuracy: 0.7333\n",
            "Epoch 30/200\n",
            "5/5 - 0s - loss: 0.2208 - accuracy: 0.9586 - val_loss: 0.5340 - val_accuracy: 0.7333\n",
            "Epoch 31/200\n",
            "5/5 - 0s - loss: 0.1926 - accuracy: 0.9655 - val_loss: 0.6041 - val_accuracy: 0.6667\n",
            "Epoch 32/200\n",
            "5/5 - 0s - loss: 0.1815 - accuracy: 0.9586 - val_loss: 0.5326 - val_accuracy: 0.7333\n",
            "Epoch 33/200\n",
            "5/5 - 0s - loss: 0.1616 - accuracy: 0.9724 - val_loss: 0.5621 - val_accuracy: 0.8000\n",
            "Epoch 34/200\n",
            "5/5 - 0s - loss: 0.1485 - accuracy: 0.9655 - val_loss: 0.5611 - val_accuracy: 0.8000\n",
            "Epoch 35/200\n",
            "5/5 - 0s - loss: 0.1370 - accuracy: 0.9586 - val_loss: 0.5658 - val_accuracy: 0.8667\n",
            "Epoch 36/200\n",
            "5/5 - 0s - loss: 0.1221 - accuracy: 0.9724 - val_loss: 0.5723 - val_accuracy: 0.8667\n",
            "Epoch 37/200\n",
            "5/5 - 0s - loss: 0.1185 - accuracy: 0.9655 - val_loss: 0.5864 - val_accuracy: 0.8667\n",
            "Epoch 38/200\n",
            "5/5 - 0s - loss: 0.1284 - accuracy: 0.9655 - val_loss: 0.5738 - val_accuracy: 0.8667\n",
            "Epoch 39/200\n",
            "5/5 - 0s - loss: 0.1053 - accuracy: 0.9655 - val_loss: 0.6364 - val_accuracy: 0.6667\n",
            "Epoch 40/200\n",
            "5/5 - 0s - loss: 0.1007 - accuracy: 0.9793 - val_loss: 0.5590 - val_accuracy: 0.8667\n",
            "Epoch 41/200\n",
            "5/5 - 0s - loss: 0.0887 - accuracy: 0.9724 - val_loss: 0.6982 - val_accuracy: 0.6667\n",
            "Epoch 42/200\n",
            "5/5 - 0s - loss: 0.0960 - accuracy: 0.9724 - val_loss: 0.5859 - val_accuracy: 0.8667\n",
            "Epoch 43/200\n",
            "5/5 - 0s - loss: 0.0857 - accuracy: 0.9793 - val_loss: 0.6229 - val_accuracy: 0.8000\n",
            "Epoch 44/200\n",
            "5/5 - 0s - loss: 0.0818 - accuracy: 0.9793 - val_loss: 0.6034 - val_accuracy: 0.8000\n",
            "Epoch 45/200\n",
            "5/5 - 0s - loss: 0.0813 - accuracy: 0.9793 - val_loss: 0.6565 - val_accuracy: 0.7333\n",
            "Epoch 46/200\n",
            "5/5 - 0s - loss: 0.0798 - accuracy: 0.9793 - val_loss: 0.6743 - val_accuracy: 0.7333\n",
            "Epoch 47/200\n",
            "5/5 - 0s - loss: 0.0765 - accuracy: 0.9793 - val_loss: 0.6005 - val_accuracy: 0.8000\n",
            "Epoch 48/200\n",
            "5/5 - 0s - loss: 0.0767 - accuracy: 0.9793 - val_loss: 0.6710 - val_accuracy: 0.7333\n",
            "Epoch 49/200\n",
            "5/5 - 0s - loss: 0.0722 - accuracy: 0.9793 - val_loss: 0.6270 - val_accuracy: 0.8000\n",
            "Epoch 50/200\n",
            "5/5 - 0s - loss: 0.0688 - accuracy: 0.9793 - val_loss: 0.6939 - val_accuracy: 0.7333\n",
            "Epoch 51/200\n",
            "5/5 - 0s - loss: 0.0710 - accuracy: 0.9793 - val_loss: 0.6493 - val_accuracy: 0.8000\n",
            "Epoch 52/200\n",
            "5/5 - 0s - loss: 0.0644 - accuracy: 0.9793 - val_loss: 0.7699 - val_accuracy: 0.6667\n",
            "Epoch 53/200\n",
            "5/5 - 0s - loss: 0.0741 - accuracy: 0.9793 - val_loss: 0.6188 - val_accuracy: 0.8000\n",
            "Epoch 54/200\n",
            "5/5 - 0s - loss: 0.0613 - accuracy: 0.9793 - val_loss: 0.8204 - val_accuracy: 0.6667\n",
            "Epoch 55/200\n",
            "5/5 - 0s - loss: 0.0715 - accuracy: 0.9793 - val_loss: 0.6538 - val_accuracy: 0.8000\n",
            "Epoch 56/200\n",
            "5/5 - 0s - loss: 0.0621 - accuracy: 0.9793 - val_loss: 0.6838 - val_accuracy: 0.8000\n",
            "Epoch 57/200\n",
            "5/5 - 0s - loss: 0.0555 - accuracy: 0.9793 - val_loss: 0.7954 - val_accuracy: 0.6667\n",
            "Epoch 58/200\n",
            "5/5 - 0s - loss: 0.0617 - accuracy: 0.9793 - val_loss: 0.6877 - val_accuracy: 0.8000\n",
            "Epoch 59/200\n",
            "5/5 - 0s - loss: 0.0618 - accuracy: 0.9793 - val_loss: 0.7660 - val_accuracy: 0.7333\n",
            "Epoch 60/200\n",
            "5/5 - 0s - loss: 0.0607 - accuracy: 0.9793 - val_loss: 0.7466 - val_accuracy: 0.8000\n",
            "Epoch 61/200\n",
            "5/5 - 0s - loss: 0.0584 - accuracy: 0.9793 - val_loss: 0.7464 - val_accuracy: 0.8000\n",
            "Epoch 62/200\n",
            "5/5 - 0s - loss: 0.0593 - accuracy: 0.9793 - val_loss: 0.7503 - val_accuracy: 0.8000\n",
            "Epoch 63/200\n",
            "5/5 - 0s - loss: 0.0545 - accuracy: 0.9793 - val_loss: 0.7220 - val_accuracy: 0.8000\n",
            "Epoch 64/200\n",
            "5/5 - 0s - loss: 0.0551 - accuracy: 0.9793 - val_loss: 0.7751 - val_accuracy: 0.8000\n",
            "Epoch 65/200\n",
            "5/5 - 0s - loss: 0.0556 - accuracy: 0.9793 - val_loss: 0.8082 - val_accuracy: 0.7333\n",
            "Epoch 66/200\n",
            "5/5 - 0s - loss: 0.0517 - accuracy: 0.9793 - val_loss: 0.7574 - val_accuracy: 0.8000\n",
            "Epoch 67/200\n",
            "5/5 - 0s - loss: 0.0572 - accuracy: 0.9793 - val_loss: 0.8075 - val_accuracy: 0.8000\n",
            "Epoch 68/200\n",
            "5/5 - 0s - loss: 0.0538 - accuracy: 0.9793 - val_loss: 0.7358 - val_accuracy: 0.8000\n",
            "Epoch 69/200\n",
            "5/5 - 0s - loss: 0.0643 - accuracy: 0.9793 - val_loss: 0.8401 - val_accuracy: 0.7333\n",
            "Epoch 70/200\n",
            "5/5 - 0s - loss: 0.0688 - accuracy: 0.9655 - val_loss: 0.7545 - val_accuracy: 0.8000\n",
            "Epoch 71/200\n",
            "5/5 - 0s - loss: 0.0530 - accuracy: 0.9793 - val_loss: 1.0508 - val_accuracy: 0.6667\n",
            "Epoch 72/200\n",
            "5/5 - 0s - loss: 0.0569 - accuracy: 0.9793 - val_loss: 0.7723 - val_accuracy: 0.8000\n",
            "Epoch 73/200\n",
            "5/5 - 0s - loss: 0.0654 - accuracy: 0.9586 - val_loss: 0.8791 - val_accuracy: 0.7333\n",
            "Epoch 74/200\n",
            "5/5 - 0s - loss: 0.0559 - accuracy: 0.9793 - val_loss: 1.0058 - val_accuracy: 0.6667\n",
            "Epoch 75/200\n",
            "5/5 - 0s - loss: 0.0752 - accuracy: 0.9586 - val_loss: 0.7187 - val_accuracy: 0.8667\n",
            "Epoch 76/200\n",
            "5/5 - 0s - loss: 0.0517 - accuracy: 0.9793 - val_loss: 1.0619 - val_accuracy: 0.6667\n",
            "Epoch 77/200\n",
            "5/5 - 0s - loss: 0.0560 - accuracy: 0.9793 - val_loss: 0.7979 - val_accuracy: 0.8000\n",
            "Epoch 78/200\n",
            "5/5 - 0s - loss: 0.0481 - accuracy: 0.9793 - val_loss: 0.8684 - val_accuracy: 0.8000\n",
            "Epoch 79/200\n",
            "5/5 - 0s - loss: 0.0481 - accuracy: 0.9793 - val_loss: 0.8737 - val_accuracy: 0.8000\n",
            "Epoch 80/200\n",
            "5/5 - 0s - loss: 0.0492 - accuracy: 0.9793 - val_loss: 0.8683 - val_accuracy: 0.8000\n",
            "Epoch 81/200\n",
            "5/5 - 0s - loss: 0.0552 - accuracy: 0.9793 - val_loss: 1.0047 - val_accuracy: 0.6667\n",
            "Epoch 82/200\n",
            "5/5 - 0s - loss: 0.0467 - accuracy: 0.9793 - val_loss: 0.7789 - val_accuracy: 0.8667\n",
            "Epoch 83/200\n",
            "5/5 - 0s - loss: 0.0590 - accuracy: 0.9724 - val_loss: 0.9182 - val_accuracy: 0.7333\n",
            "Epoch 84/200\n",
            "5/5 - 0s - loss: 0.0454 - accuracy: 0.9793 - val_loss: 0.8195 - val_accuracy: 0.8000\n",
            "Epoch 85/200\n",
            "5/5 - 0s - loss: 0.0487 - accuracy: 0.9724 - val_loss: 0.9111 - val_accuracy: 0.8000\n",
            "Epoch 86/200\n",
            "5/5 - 0s - loss: 0.0513 - accuracy: 0.9793 - val_loss: 0.9788 - val_accuracy: 0.7333\n",
            "Epoch 87/200\n",
            "5/5 - 0s - loss: 0.0453 - accuracy: 0.9793 - val_loss: 0.8852 - val_accuracy: 0.8000\n",
            "Epoch 88/200\n",
            "5/5 - 0s - loss: 0.0581 - accuracy: 0.9586 - val_loss: 0.8939 - val_accuracy: 0.8000\n",
            "Epoch 89/200\n",
            "5/5 - 0s - loss: 0.0563 - accuracy: 0.9793 - val_loss: 1.2587 - val_accuracy: 0.6667\n",
            "Epoch 90/200\n",
            "5/5 - 0s - loss: 0.0550 - accuracy: 0.9793 - val_loss: 0.8580 - val_accuracy: 0.8000\n",
            "Epoch 91/200\n",
            "5/5 - 0s - loss: 0.0477 - accuracy: 0.9724 - val_loss: 0.7717 - val_accuracy: 0.8667\n",
            "Epoch 92/200\n",
            "5/5 - 0s - loss: 0.0558 - accuracy: 0.9655 - val_loss: 1.0656 - val_accuracy: 0.6667\n",
            "Epoch 93/200\n",
            "5/5 - 0s - loss: 0.0496 - accuracy: 0.9793 - val_loss: 0.8915 - val_accuracy: 0.8000\n",
            "Epoch 94/200\n",
            "5/5 - 0s - loss: 0.0447 - accuracy: 0.9724 - val_loss: 0.7994 - val_accuracy: 0.8667\n",
            "Epoch 95/200\n",
            "5/5 - 0s - loss: 0.0572 - accuracy: 0.9655 - val_loss: 0.9857 - val_accuracy: 0.7333\n",
            "Epoch 96/200\n",
            "5/5 - 0s - loss: 0.0483 - accuracy: 0.9793 - val_loss: 0.8930 - val_accuracy: 0.8000\n",
            "Epoch 97/200\n",
            "5/5 - 0s - loss: 0.0414 - accuracy: 0.9793 - val_loss: 1.0060 - val_accuracy: 0.6667\n",
            "Epoch 98/200\n",
            "5/5 - 0s - loss: 0.0443 - accuracy: 0.9793 - val_loss: 1.0257 - val_accuracy: 0.6667\n",
            "Epoch 99/200\n",
            "5/5 - 0s - loss: 0.0504 - accuracy: 0.9793 - val_loss: 0.9213 - val_accuracy: 0.8000\n",
            "Epoch 100/200\n",
            "5/5 - 0s - loss: 0.0452 - accuracy: 0.9793 - val_loss: 1.0965 - val_accuracy: 0.6667\n",
            "Epoch 101/200\n",
            "5/5 - 0s - loss: 0.0434 - accuracy: 0.9793 - val_loss: 0.8211 - val_accuracy: 0.8667\n",
            "Epoch 102/200\n",
            "5/5 - 0s - loss: 0.0470 - accuracy: 0.9724 - val_loss: 0.9783 - val_accuracy: 0.7333\n",
            "Epoch 103/200\n",
            "5/5 - 0s - loss: 0.0523 - accuracy: 0.9793 - val_loss: 1.0250 - val_accuracy: 0.6667\n",
            "Epoch 104/200\n",
            "5/5 - 0s - loss: 0.0487 - accuracy: 0.9655 - val_loss: 0.8288 - val_accuracy: 0.8667\n",
            "Epoch 105/200\n",
            "5/5 - 0s - loss: 0.0444 - accuracy: 0.9793 - val_loss: 1.1602 - val_accuracy: 0.6667\n",
            "Epoch 106/200\n",
            "5/5 - 0s - loss: 0.0572 - accuracy: 0.9793 - val_loss: 0.8778 - val_accuracy: 0.8000\n",
            "Epoch 107/200\n",
            "5/5 - 0s - loss: 0.0442 - accuracy: 0.9724 - val_loss: 0.9574 - val_accuracy: 0.7333\n",
            "Epoch 108/200\n",
            "5/5 - 0s - loss: 0.0410 - accuracy: 0.9793 - val_loss: 1.0565 - val_accuracy: 0.6667\n",
            "Epoch 109/200\n",
            "5/5 - 0s - loss: 0.0428 - accuracy: 0.9793 - val_loss: 0.9292 - val_accuracy: 0.8000\n",
            "Epoch 110/200\n",
            "5/5 - 0s - loss: 0.0524 - accuracy: 0.9517 - val_loss: 1.0073 - val_accuracy: 0.7333\n",
            "Epoch 111/200\n",
            "5/5 - 0s - loss: 0.0515 - accuracy: 0.9793 - val_loss: 0.9073 - val_accuracy: 0.8000\n",
            "Epoch 112/200\n",
            "5/5 - 0s - loss: 0.0427 - accuracy: 0.9793 - val_loss: 1.0450 - val_accuracy: 0.6667\n",
            "Epoch 113/200\n",
            "5/5 - 0s - loss: 0.0507 - accuracy: 0.9793 - val_loss: 1.1000 - val_accuracy: 0.6667\n",
            "Epoch 114/200\n",
            "5/5 - 0s - loss: 0.0401 - accuracy: 0.9793 - val_loss: 0.8216 - val_accuracy: 0.8667\n",
            "Epoch 115/200\n",
            "5/5 - 0s - loss: 0.0486 - accuracy: 0.9724 - val_loss: 1.0048 - val_accuracy: 0.7333\n",
            "Epoch 116/200\n",
            "5/5 - 0s - loss: 0.0396 - accuracy: 0.9793 - val_loss: 0.8978 - val_accuracy: 0.8000\n",
            "Epoch 117/200\n",
            "5/5 - 0s - loss: 0.0422 - accuracy: 0.9724 - val_loss: 0.9148 - val_accuracy: 0.8000\n",
            "Epoch 118/200\n",
            "5/5 - 0s - loss: 0.0422 - accuracy: 0.9793 - val_loss: 1.0427 - val_accuracy: 0.6667\n",
            "Epoch 119/200\n",
            "5/5 - 0s - loss: 0.0441 - accuracy: 0.9793 - val_loss: 1.0146 - val_accuracy: 0.7333\n",
            "Epoch 120/200\n",
            "5/5 - 0s - loss: 0.0410 - accuracy: 0.9793 - val_loss: 1.0103 - val_accuracy: 0.7333\n",
            "Epoch 121/200\n",
            "5/5 - 0s - loss: 0.0480 - accuracy: 0.9793 - val_loss: 1.1041 - val_accuracy: 0.6667\n",
            "Epoch 122/200\n",
            "5/5 - 0s - loss: 0.0356 - accuracy: 0.9793 - val_loss: 0.8510 - val_accuracy: 0.8667\n",
            "Epoch 123/200\n",
            "5/5 - 0s - loss: 0.0560 - accuracy: 0.9724 - val_loss: 1.0648 - val_accuracy: 0.6667\n",
            "Epoch 124/200\n",
            "5/5 - 0s - loss: 0.0696 - accuracy: 0.9793 - val_loss: 1.4275 - val_accuracy: 0.6667\n",
            "Epoch 125/200\n",
            "5/5 - 0s - loss: 0.0396 - accuracy: 0.9793 - val_loss: 0.8073 - val_accuracy: 0.8667\n",
            "Epoch 126/200\n",
            "5/5 - 0s - loss: 0.0506 - accuracy: 0.9655 - val_loss: 1.1303 - val_accuracy: 0.6667\n",
            "Epoch 127/200\n",
            "5/5 - 0s - loss: 0.0581 - accuracy: 0.9793 - val_loss: 1.1848 - val_accuracy: 0.6667\n",
            "Epoch 128/200\n",
            "5/5 - 0s - loss: 0.0523 - accuracy: 0.9655 - val_loss: 0.8363 - val_accuracy: 0.8667\n",
            "Epoch 129/200\n",
            "5/5 - 0s - loss: 0.0447 - accuracy: 0.9724 - val_loss: 1.1302 - val_accuracy: 0.6667\n",
            "Epoch 130/200\n",
            "5/5 - 0s - loss: 0.0467 - accuracy: 0.9793 - val_loss: 0.9383 - val_accuracy: 0.7333\n",
            "Epoch 131/200\n",
            "5/5 - 0s - loss: 0.0418 - accuracy: 0.9793 - val_loss: 0.8792 - val_accuracy: 0.8000\n",
            "Epoch 132/200\n",
            "5/5 - 0s - loss: 0.0441 - accuracy: 0.9586 - val_loss: 0.9427 - val_accuracy: 0.7333\n",
            "Epoch 133/200\n",
            "5/5 - 0s - loss: 0.0447 - accuracy: 0.9793 - val_loss: 1.0468 - val_accuracy: 0.6667\n",
            "Epoch 134/200\n",
            "5/5 - 0s - loss: 0.0424 - accuracy: 0.9793 - val_loss: 0.8984 - val_accuracy: 0.8000\n",
            "Epoch 135/200\n",
            "5/5 - 0s - loss: 0.0406 - accuracy: 0.9793 - val_loss: 0.9986 - val_accuracy: 0.7333\n",
            "Epoch 136/200\n",
            "5/5 - 0s - loss: 0.0414 - accuracy: 0.9793 - val_loss: 1.0136 - val_accuracy: 0.7333\n",
            "Epoch 137/200\n",
            "5/5 - 0s - loss: 0.0462 - accuracy: 0.9793 - val_loss: 0.9983 - val_accuracy: 0.7333\n",
            "Epoch 138/200\n",
            "5/5 - 0s - loss: 0.0455 - accuracy: 0.9724 - val_loss: 0.8713 - val_accuracy: 0.8667\n",
            "Epoch 139/200\n",
            "5/5 - 0s - loss: 0.0577 - accuracy: 0.9655 - val_loss: 1.1187 - val_accuracy: 0.6667\n",
            "Epoch 140/200\n",
            "5/5 - 0s - loss: 0.0511 - accuracy: 0.9724 - val_loss: 0.8588 - val_accuracy: 0.8667\n",
            "Epoch 141/200\n",
            "5/5 - 0s - loss: 0.0373 - accuracy: 0.9793 - val_loss: 1.2664 - val_accuracy: 0.6000\n",
            "Epoch 142/200\n",
            "5/5 - 0s - loss: 0.0533 - accuracy: 0.9793 - val_loss: 1.1942 - val_accuracy: 0.6000\n",
            "Epoch 143/200\n",
            "5/5 - 0s - loss: 0.0642 - accuracy: 0.9655 - val_loss: 0.7851 - val_accuracy: 0.8667\n",
            "Epoch 144/200\n",
            "5/5 - 0s - loss: 0.0489 - accuracy: 0.9724 - val_loss: 1.3252 - val_accuracy: 0.6000\n",
            "Epoch 145/200\n",
            "5/5 - 0s - loss: 0.0563 - accuracy: 0.9793 - val_loss: 1.3390 - val_accuracy: 0.6000\n",
            "Epoch 146/200\n",
            "5/5 - 0s - loss: 0.0692 - accuracy: 0.9655 - val_loss: 0.8072 - val_accuracy: 0.8667\n",
            "Epoch 147/200\n",
            "5/5 - 0s - loss: 0.0406 - accuracy: 0.9724 - val_loss: 1.2524 - val_accuracy: 0.6667\n",
            "Epoch 148/200\n",
            "5/5 - 0s - loss: 0.0667 - accuracy: 0.9793 - val_loss: 1.1990 - val_accuracy: 0.6667\n",
            "Epoch 149/200\n",
            "5/5 - 0s - loss: 0.0552 - accuracy: 0.9655 - val_loss: 0.7638 - val_accuracy: 0.8667\n",
            "Epoch 150/200\n",
            "5/5 - 0s - loss: 0.0526 - accuracy: 0.9655 - val_loss: 1.0443 - val_accuracy: 0.6667\n",
            "Epoch 151/200\n",
            "5/5 - 0s - loss: 0.0576 - accuracy: 0.9793 - val_loss: 1.2505 - val_accuracy: 0.6667\n",
            "Epoch 152/200\n",
            "5/5 - 0s - loss: 0.0486 - accuracy: 0.9793 - val_loss: 0.8122 - val_accuracy: 0.8667\n",
            "Epoch 153/200\n",
            "5/5 - 0s - loss: 0.0471 - accuracy: 0.9655 - val_loss: 0.9164 - val_accuracy: 0.7333\n",
            "Epoch 154/200\n",
            "5/5 - 0s - loss: 0.0405 - accuracy: 0.9793 - val_loss: 1.0289 - val_accuracy: 0.6667\n",
            "Epoch 155/200\n",
            "5/5 - 0s - loss: 0.0406 - accuracy: 0.9793 - val_loss: 1.0511 - val_accuracy: 0.6667\n",
            "Epoch 156/200\n",
            "5/5 - 0s - loss: 0.0414 - accuracy: 0.9793 - val_loss: 1.0498 - val_accuracy: 0.6667\n",
            "Epoch 157/200\n",
            "5/5 - 0s - loss: 0.0379 - accuracy: 0.9793 - val_loss: 0.8613 - val_accuracy: 0.8667\n",
            "Epoch 158/200\n",
            "5/5 - 0s - loss: 0.0498 - accuracy: 0.9655 - val_loss: 0.9691 - val_accuracy: 0.7333\n",
            "Epoch 159/200\n",
            "5/5 - 0s - loss: 0.0552 - accuracy: 0.9793 - val_loss: 1.5002 - val_accuracy: 0.6000\n",
            "Epoch 160/200\n",
            "5/5 - 0s - loss: 0.0596 - accuracy: 0.9793 - val_loss: 1.0631 - val_accuracy: 0.6667\n",
            "Epoch 161/200\n",
            "5/5 - 0s - loss: 0.0563 - accuracy: 0.9655 - val_loss: 0.7840 - val_accuracy: 0.8667\n",
            "Epoch 162/200\n",
            "5/5 - 0s - loss: 0.0505 - accuracy: 0.9655 - val_loss: 1.1659 - val_accuracy: 0.6667\n",
            "Epoch 163/200\n",
            "5/5 - 0s - loss: 0.0498 - accuracy: 0.9793 - val_loss: 1.1051 - val_accuracy: 0.6667\n",
            "Epoch 164/200\n",
            "5/5 - 0s - loss: 0.0459 - accuracy: 0.9655 - val_loss: 0.8580 - val_accuracy: 0.8667\n",
            "Epoch 165/200\n",
            "5/5 - 0s - loss: 0.0417 - accuracy: 0.9724 - val_loss: 1.0381 - val_accuracy: 0.6667\n",
            "Epoch 166/200\n",
            "5/5 - 0s - loss: 0.0430 - accuracy: 0.9793 - val_loss: 1.3657 - val_accuracy: 0.6000\n",
            "Epoch 167/200\n",
            "5/5 - 0s - loss: 0.0562 - accuracy: 0.9793 - val_loss: 0.9563 - val_accuracy: 0.7333\n",
            "Epoch 168/200\n",
            "5/5 - 0s - loss: 0.0409 - accuracy: 0.9793 - val_loss: 0.9781 - val_accuracy: 0.7333\n",
            "Epoch 169/200\n",
            "5/5 - 0s - loss: 0.0394 - accuracy: 0.9793 - val_loss: 1.0502 - val_accuracy: 0.6667\n",
            "Epoch 170/200\n",
            "5/5 - 0s - loss: 0.0397 - accuracy: 0.9793 - val_loss: 1.0200 - val_accuracy: 0.6667\n",
            "Epoch 171/200\n",
            "5/5 - 0s - loss: 0.0423 - accuracy: 0.9793 - val_loss: 1.0286 - val_accuracy: 0.6667\n",
            "Epoch 172/200\n",
            "5/5 - 0s - loss: 0.0449 - accuracy: 0.9655 - val_loss: 0.8912 - val_accuracy: 0.8667\n",
            "Epoch 173/200\n",
            "5/5 - 0s - loss: 0.0359 - accuracy: 0.9931 - val_loss: 1.2803 - val_accuracy: 0.6000\n",
            "Epoch 174/200\n",
            "5/5 - 0s - loss: 0.0484 - accuracy: 0.9793 - val_loss: 1.1797 - val_accuracy: 0.6000\n",
            "Epoch 175/200\n",
            "5/5 - 0s - loss: 0.0375 - accuracy: 0.9724 - val_loss: 0.8506 - val_accuracy: 0.8667\n",
            "Epoch 176/200\n",
            "5/5 - 0s - loss: 0.0438 - accuracy: 0.9724 - val_loss: 1.0181 - val_accuracy: 0.6667\n",
            "Epoch 177/200\n",
            "5/5 - 0s - loss: 0.0380 - accuracy: 0.9793 - val_loss: 1.1479 - val_accuracy: 0.6000\n",
            "Epoch 178/200\n",
            "5/5 - 0s - loss: 0.0416 - accuracy: 0.9793 - val_loss: 0.9607 - val_accuracy: 0.7333\n",
            "Epoch 179/200\n",
            "5/5 - 0s - loss: 0.0389 - accuracy: 0.9793 - val_loss: 0.9567 - val_accuracy: 0.7333\n",
            "Epoch 180/200\n",
            "5/5 - 0s - loss: 0.0388 - accuracy: 0.9793 - val_loss: 1.0613 - val_accuracy: 0.6000\n",
            "Epoch 181/200\n",
            "5/5 - 0s - loss: 0.0432 - accuracy: 0.9793 - val_loss: 1.0028 - val_accuracy: 0.6667\n",
            "Epoch 182/200\n",
            "5/5 - 0s - loss: 0.0405 - accuracy: 0.9793 - val_loss: 1.1619 - val_accuracy: 0.6000\n",
            "Epoch 183/200\n",
            "5/5 - 0s - loss: 0.0453 - accuracy: 0.9793 - val_loss: 1.0997 - val_accuracy: 0.6000\n",
            "Epoch 184/200\n",
            "5/5 - 0s - loss: 0.0377 - accuracy: 0.9793 - val_loss: 0.9138 - val_accuracy: 0.8667\n",
            "Epoch 185/200\n",
            "5/5 - 0s - loss: 0.0421 - accuracy: 0.9655 - val_loss: 1.0059 - val_accuracy: 0.6667\n",
            "Epoch 186/200\n",
            "5/5 - 0s - loss: 0.0395 - accuracy: 0.9793 - val_loss: 1.0784 - val_accuracy: 0.6000\n",
            "Epoch 187/200\n",
            "5/5 - 0s - loss: 0.0411 - accuracy: 0.9793 - val_loss: 1.0741 - val_accuracy: 0.6000\n",
            "Epoch 188/200\n",
            "5/5 - 0s - loss: 0.0386 - accuracy: 0.9793 - val_loss: 1.0034 - val_accuracy: 0.6667\n",
            "Epoch 189/200\n",
            "5/5 - 0s - loss: 0.0380 - accuracy: 0.9793 - val_loss: 1.0626 - val_accuracy: 0.6000\n",
            "Epoch 190/200\n",
            "5/5 - 0s - loss: 0.0464 - accuracy: 0.9793 - val_loss: 1.1152 - val_accuracy: 0.6000\n",
            "Epoch 191/200\n",
            "5/5 - 0s - loss: 0.0391 - accuracy: 0.9793 - val_loss: 0.9224 - val_accuracy: 0.8667\n",
            "Epoch 192/200\n",
            "5/5 - 0s - loss: 0.0391 - accuracy: 0.9793 - val_loss: 1.1004 - val_accuracy: 0.6000\n",
            "Epoch 193/200\n",
            "5/5 - 0s - loss: 0.0558 - accuracy: 0.9793 - val_loss: 1.2965 - val_accuracy: 0.6000\n",
            "Epoch 194/200\n",
            "5/5 - 0s - loss: 0.0443 - accuracy: 0.9793 - val_loss: 0.8777 - val_accuracy: 0.8667\n",
            "Epoch 195/200\n",
            "5/5 - 0s - loss: 0.0523 - accuracy: 0.9655 - val_loss: 1.0322 - val_accuracy: 0.6667\n",
            "Epoch 196/200\n",
            "5/5 - 0s - loss: 0.0657 - accuracy: 0.9793 - val_loss: 1.7768 - val_accuracy: 0.6000\n",
            "Epoch 197/200\n",
            "5/5 - 0s - loss: 0.0590 - accuracy: 0.9793 - val_loss: 0.8658 - val_accuracy: 0.8667\n",
            "Epoch 198/200\n",
            "5/5 - 0s - loss: 0.0525 - accuracy: 0.9655 - val_loss: 0.8234 - val_accuracy: 0.8667\n",
            "Epoch 199/200\n",
            "5/5 - 0s - loss: 0.0419 - accuracy: 0.9724 - val_loss: 1.0468 - val_accuracy: 0.6667\n",
            "Epoch 200/200\n",
            "5/5 - 0s - loss: 0.0393 - accuracy: 0.9793 - val_loss: 0.9248 - val_accuracy: 0.7333\n"
          ]
        }
      ]
    },
    {
      "cell_type": "code",
      "metadata": {
        "colab": {
          "base_uri": "https://localhost:8080/"
        },
        "id": "vHw8eWbN5F7T",
        "outputId": "58ce2b5d-4636-42ea-eadd-c91666d99dab"
      },
      "source": [
        "string = [\"Marvel Entertainment, LLC, a wholly-owned subsidiary of The Walt Disney Company, is one of the world's most prominent character-based entertainment companies, built on a proven library of over 8,000 characters featured in a variety of media over seventy years. Marvel utilizes its character franchises in entertainment, licensing and publishing.\"]\n",
        "mar_sequences = tokenizer.texts_to_sequences(string)\n",
        "train_sequences = pad_sequences(mar_sequences, padding=\"post\")\n",
        "model.predict(trcain_sequences)\n",
        "print(np.argmax(model.predict(_trcain_sequences)))"
      ],
      "execution_count": 16,
      "outputs": [
        {
          "output_type": "stream",
          "name": "stdout",
          "text": [
            "WARNING:tensorflow:Model was constructed with shape (None, 200) for input KerasTensor(type_spec=TensorSpec(shape=(None, 200), dtype=tf.float32, name='embedding_input'), name='embedding_input', description=\"created by layer 'embedding_input'\"), but it was called on an input with incompatible shape (None, 52).\n"
          ]
        },
        {
          "output_type": "execute_result",
          "data": {
            "text/plain": [
              "array([[3.843315e-06]], dtype=float32)"
            ]
          },
          "metadata": {},
          "execution_count": 16
        }
      ]
    },
    {
      "cell_type": "code",
      "metadata": {
        "id": "0qd3rQCy8CZ3"
      },
      "source": [
        ""
      ],
      "execution_count": 17,
      "outputs": []
    },
    {
      "cell_type": "code",
      "metadata": {
        "id": "iywJIbirVASN",
        "colab": {
          "base_uri": "https://localhost:8080/"
        },
        "outputId": "5a8f35fa-669b-43c3-f727-10eaa4124d69"
      },
      "source": [
        ""
      ],
      "execution_count": 17,
      "outputs": [
        {
          "output_type": "stream",
          "name": "stdout",
          "text": [
            "0\n"
          ]
        }
      ]
    },
    {
      "cell_type": "code",
      "metadata": {
        "id": "C8xIZgB3bm6i"
      },
      "source": [
        ""
      ],
      "execution_count": null,
      "outputs": []
    }
  ]
}